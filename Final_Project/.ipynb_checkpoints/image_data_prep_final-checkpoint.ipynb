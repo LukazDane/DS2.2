{
 "cells": [
  {
   "cell_type": "code",
   "execution_count": 1,
   "metadata": {},
   "outputs": [
    {
     "name": "stdout",
     "output_type": "stream",
     "text": [
      "/Users/lukazphelps/Desktop/SchoolCode/DS2.2/Final_Project/images\n"
     ]
    }
   ],
   "source": [
    "%cd images"
   ]
  },
  {
   "cell_type": "code",
   "execution_count": 2,
   "metadata": {},
   "outputs": [
    {
     "name": "stderr",
     "output_type": "stream",
     "text": [
      "Using TensorFlow backend.\n"
     ]
    }
   ],
   "source": [
    "# from PyInstaller.utils.hooks import collect_submodules\n",
    "# hiddenimports = collect_submodules('tensorflow_core')\n",
    "import glob\n",
    "import pandas as pd\n",
    "import numpy as np\n",
    "import os\n",
    "import tensorflow as tf\n",
    "from tensorflow import keras\n",
    "from sklearn.model_selection import train_test_split\n",
    "from PIL import Image\n",
    "from keras.preprocessing.image import img_to_array\n",
    "from tensorflow.keras.models import Sequential, load_model\n",
    "from keras.utils import np_utils\n",
    "from tensorflow.keras import layers\n",
    "from keras.layers.core import Dense, Activation\n",
    "from keras.layers import Input, Conv2D, MaxPooling2D, Flatten, Dropout\n",
    "from keras.preprocessing.image import ImageDataGenerator\n",
    "from keras.preprocessing.image import img_to_array\n",
    "# print(Sequential())"
   ]
  },
  {
   "cell_type": "code",
   "execution_count": 3,
   "metadata": {},
   "outputs": [],
   "source": [
    "files = glob.glob(\"Fire_images/*.*\")\n",
    "ls_fire = []\n",
    "for filepath in files:\n",
    "    ls_fire.append(['Fire_images', os.path.basename(filepath), '1'])"
   ]
  },
  {
   "cell_type": "code",
   "execution_count": 4,
   "metadata": {},
   "outputs": [],
   "source": [
    "files = glob.glob(\"Normal_Images_1/*.*\")\n",
    "ls_normal = []\n",
    "for filepath in files:\n",
    "    ls_normal.append(['Normal_Images_1', os.path.basename(filepath), '0'])"
   ]
  },
  {
   "cell_type": "code",
   "execution_count": 5,
   "metadata": {},
   "outputs": [],
   "source": [
    "df_fire = pd.DataFrame(ls_fire, columns=['Folder', 'filename', 'label'])"
   ]
  },
  {
   "cell_type": "code",
   "execution_count": 6,
   "metadata": {},
   "outputs": [],
   "source": [
    "df_normal = pd.DataFrame(ls_normal, columns=['Folder', 'filename', 'label'])"
   ]
  },
  {
   "cell_type": "code",
   "execution_count": 7,
   "metadata": {},
   "outputs": [
    {
     "data": {
      "text/html": [
       "<div>\n",
       "<style scoped>\n",
       "    .dataframe tbody tr th:only-of-type {\n",
       "        vertical-align: middle;\n",
       "    }\n",
       "\n",
       "    .dataframe tbody tr th {\n",
       "        vertical-align: top;\n",
       "    }\n",
       "\n",
       "    .dataframe thead th {\n",
       "        text-align: right;\n",
       "    }\n",
       "</style>\n",
       "<table border=\"1\" class=\"dataframe\">\n",
       "  <thead>\n",
       "    <tr style=\"text-align: right;\">\n",
       "      <th></th>\n",
       "      <th>Folder</th>\n",
       "      <th>filename</th>\n",
       "      <th>label</th>\n",
       "    </tr>\n",
       "  </thead>\n",
       "  <tbody>\n",
       "    <tr>\n",
       "      <th>0</th>\n",
       "      <td>Fire_images</td>\n",
       "      <td>dsc_01001.jpg</td>\n",
       "      <td>1</td>\n",
       "    </tr>\n",
       "    <tr>\n",
       "      <th>1</th>\n",
       "      <td>Fire_images</td>\n",
       "      <td>burning-charcoal-briquettes.jpg</td>\n",
       "      <td>1</td>\n",
       "    </tr>\n",
       "    <tr>\n",
       "      <th>2</th>\n",
       "      <td>Fire_images</td>\n",
       "      <td>Chimney-Fire3.jpg</td>\n",
       "      <td>1</td>\n",
       "    </tr>\n",
       "    <tr>\n",
       "      <th>3</th>\n",
       "      <td>Fire_images</td>\n",
       "      <td>canada-wildfire.jpg</td>\n",
       "      <td>1</td>\n",
       "    </tr>\n",
       "    <tr>\n",
       "      <th>4</th>\n",
       "      <td>Fire_images</td>\n",
       "      <td>Living_Room_Camp_Fire.jpg</td>\n",
       "      <td>1</td>\n",
       "    </tr>\n",
       "  </tbody>\n",
       "</table>\n",
       "</div>"
      ],
      "text/plain": [
       "        Folder                         filename label\n",
       "0  Fire_images                    dsc_01001.jpg     1\n",
       "1  Fire_images  burning-charcoal-briquettes.jpg     1\n",
       "2  Fire_images                Chimney-Fire3.jpg     1\n",
       "3  Fire_images              canada-wildfire.jpg     1\n",
       "4  Fire_images        Living_Room_Camp_Fire.jpg     1"
      ]
     },
     "execution_count": 7,
     "metadata": {},
     "output_type": "execute_result"
    }
   ],
   "source": [
    "df_fire.head()"
   ]
  },
  {
   "cell_type": "code",
   "execution_count": 8,
   "metadata": {},
   "outputs": [
    {
     "data": {
      "text/html": [
       "<div>\n",
       "<style scoped>\n",
       "    .dataframe tbody tr th:only-of-type {\n",
       "        vertical-align: middle;\n",
       "    }\n",
       "\n",
       "    .dataframe tbody tr th {\n",
       "        vertical-align: top;\n",
       "    }\n",
       "\n",
       "    .dataframe thead th {\n",
       "        text-align: right;\n",
       "    }\n",
       "</style>\n",
       "<table border=\"1\" class=\"dataframe\">\n",
       "  <thead>\n",
       "    <tr style=\"text-align: right;\">\n",
       "      <th></th>\n",
       "      <th>Folder</th>\n",
       "      <th>filename</th>\n",
       "      <th>label</th>\n",
       "    </tr>\n",
       "  </thead>\n",
       "  <tbody>\n",
       "    <tr>\n",
       "      <th>0</th>\n",
       "      <td>Normal_Images_1</td>\n",
       "      <td>1526t.jpg</td>\n",
       "      <td>0</td>\n",
       "    </tr>\n",
       "    <tr>\n",
       "      <th>1</th>\n",
       "      <td>Normal_Images_1</td>\n",
       "      <td>23e90181fcef550cffae7c4ff77e566d.jpg</td>\n",
       "      <td>0</td>\n",
       "    </tr>\n",
       "    <tr>\n",
       "      <th>2</th>\n",
       "      <td>Normal_Images_1</td>\n",
       "      <td>157_TypicalOffice-1024x881.jpg</td>\n",
       "      <td>0</td>\n",
       "    </tr>\n",
       "    <tr>\n",
       "      <th>3</th>\n",
       "      <td>Normal_Images_1</td>\n",
       "      <td>aes7.jpg</td>\n",
       "      <td>0</td>\n",
       "    </tr>\n",
       "    <tr>\n",
       "      <th>4</th>\n",
       "      <td>Normal_Images_1</td>\n",
       "      <td>7bfa705a0e9058e8e33494bbe76a330c.jpg</td>\n",
       "      <td>0</td>\n",
       "    </tr>\n",
       "  </tbody>\n",
       "</table>\n",
       "</div>"
      ],
      "text/plain": [
       "            Folder                              filename label\n",
       "0  Normal_Images_1                             1526t.jpg     0\n",
       "1  Normal_Images_1  23e90181fcef550cffae7c4ff77e566d.jpg     0\n",
       "2  Normal_Images_1        157_TypicalOffice-1024x881.jpg     0\n",
       "3  Normal_Images_1                              aes7.jpg     0\n",
       "4  Normal_Images_1  7bfa705a0e9058e8e33494bbe76a330c.jpg     0"
      ]
     },
     "execution_count": 8,
     "metadata": {},
     "output_type": "execute_result"
    }
   ],
   "source": [
    "df_normal.head()"
   ]
  },
  {
   "cell_type": "code",
   "execution_count": 9,
   "metadata": {},
   "outputs": [
    {
     "data": {
      "text/html": [
       "<div>\n",
       "<style scoped>\n",
       "    .dataframe tbody tr th:only-of-type {\n",
       "        vertical-align: middle;\n",
       "    }\n",
       "\n",
       "    .dataframe tbody tr th {\n",
       "        vertical-align: top;\n",
       "    }\n",
       "\n",
       "    .dataframe thead th {\n",
       "        text-align: right;\n",
       "    }\n",
       "</style>\n",
       "<table border=\"1\" class=\"dataframe\">\n",
       "  <thead>\n",
       "    <tr style=\"text-align: right;\">\n",
       "      <th></th>\n",
       "      <th>Folder</th>\n",
       "      <th>filename</th>\n",
       "      <th>label</th>\n",
       "    </tr>\n",
       "  </thead>\n",
       "  <tbody>\n",
       "    <tr>\n",
       "      <th>0</th>\n",
       "      <td>Fire_images</td>\n",
       "      <td>dsc_01001.jpg</td>\n",
       "      <td>1</td>\n",
       "    </tr>\n",
       "    <tr>\n",
       "      <th>1</th>\n",
       "      <td>Fire_images</td>\n",
       "      <td>burning-charcoal-briquettes.jpg</td>\n",
       "      <td>1</td>\n",
       "    </tr>\n",
       "    <tr>\n",
       "      <th>2</th>\n",
       "      <td>Fire_images</td>\n",
       "      <td>Chimney-Fire3.jpg</td>\n",
       "      <td>1</td>\n",
       "    </tr>\n",
       "    <tr>\n",
       "      <th>3</th>\n",
       "      <td>Fire_images</td>\n",
       "      <td>canada-wildfire.jpg</td>\n",
       "      <td>1</td>\n",
       "    </tr>\n",
       "    <tr>\n",
       "      <th>4</th>\n",
       "      <td>Fire_images</td>\n",
       "      <td>Living_Room_Camp_Fire.jpg</td>\n",
       "      <td>1</td>\n",
       "    </tr>\n",
       "    <tr>\n",
       "      <th>...</th>\n",
       "      <td>...</td>\n",
       "      <td>...</td>\n",
       "      <td>...</td>\n",
       "    </tr>\n",
       "    <tr>\n",
       "      <th>258</th>\n",
       "      <td>Normal_Images_1</td>\n",
       "      <td>amazing-modern-living-room-design-with-white-b...</td>\n",
       "      <td>0</td>\n",
       "    </tr>\n",
       "    <tr>\n",
       "      <th>259</th>\n",
       "      <td>Normal_Images_1</td>\n",
       "      <td>813e6b10-848b-478e-a471-480f14eeb271.1.10.jpg</td>\n",
       "      <td>0</td>\n",
       "    </tr>\n",
       "    <tr>\n",
       "      <th>260</th>\n",
       "      <td>Normal_Images_1</td>\n",
       "      <td>201504-connect-norway-horizontal-1b.jpg</td>\n",
       "      <td>0</td>\n",
       "    </tr>\n",
       "    <tr>\n",
       "      <th>261</th>\n",
       "      <td>Normal_Images_1</td>\n",
       "      <td>690x380-Lake-Tahoe-Summer-Emerald-Bay.jpg</td>\n",
       "      <td>0</td>\n",
       "    </tr>\n",
       "    <tr>\n",
       "      <th>262</th>\n",
       "      <td>Normal_Images_1</td>\n",
       "      <td>AAEAAQAAAAAAAAJqAAAAJDAwNDUwNDAwLWUwYTAtNDlmNy...</td>\n",
       "      <td>0</td>\n",
       "    </tr>\n",
       "  </tbody>\n",
       "</table>\n",
       "<p>263 rows × 3 columns</p>\n",
       "</div>"
      ],
      "text/plain": [
       "              Folder                                           filename label\n",
       "0        Fire_images                                      dsc_01001.jpg     1\n",
       "1        Fire_images                    burning-charcoal-briquettes.jpg     1\n",
       "2        Fire_images                                  Chimney-Fire3.jpg     1\n",
       "3        Fire_images                                canada-wildfire.jpg     1\n",
       "4        Fire_images                          Living_Room_Camp_Fire.jpg     1\n",
       "..               ...                                                ...   ...\n",
       "258  Normal_Images_1  amazing-modern-living-room-design-with-white-b...     0\n",
       "259  Normal_Images_1      813e6b10-848b-478e-a471-480f14eeb271.1.10.jpg     0\n",
       "260  Normal_Images_1            201504-connect-norway-horizontal-1b.jpg     0\n",
       "261  Normal_Images_1          690x380-Lake-Tahoe-Summer-Emerald-Bay.jpg     0\n",
       "262  Normal_Images_1  AAEAAQAAAAAAAAJqAAAAJDAwNDUwNDAwLWUwYTAtNDlmNy...     0\n",
       "\n",
       "[263 rows x 3 columns]"
      ]
     },
     "execution_count": 9,
     "metadata": {},
     "output_type": "execute_result"
    }
   ],
   "source": [
    "df = pd.concat([df_fire, df_normal]).reset_index().drop('index', axis=1) # combining the dataframes\n",
    "df"
   ]
  },
  {
   "cell_type": "code",
   "execution_count": 10,
   "metadata": {},
   "outputs": [],
   "source": [
    "df_train, df_test = train_test_split(df, test_size=0.2, random_state=0)\n"
   ]
  },
  {
   "cell_type": "code",
   "execution_count": 11,
   "metadata": {},
   "outputs": [
    {
     "name": "stdout",
     "output_type": "stream",
     "text": [
      "(930, 581)\n"
     ]
    }
   ],
   "source": [
    "img = Image.open(os.path.join(df['Folder'][260], df['filename'][260]))\n",
    "print(img.size)\n",
    "image_red = img.resize((1024, 1024))\n",
    "image = img_to_array(image_red)"
   ]
  },
  {
   "cell_type": "code",
   "execution_count": 12,
   "metadata": {},
   "outputs": [
    {
     "name": "stdout",
     "output_type": "stream",
     "text": [
      "size: (1024, 1024)\n"
     ]
    }
   ],
   "source": [
    "print(\"size: \" + str(image_red.size))\n"
   ]
  },
  {
   "cell_type": "code",
   "execution_count": 13,
   "metadata": {},
   "outputs": [
    {
     "data": {
      "text/plain": [
       "(1024, 1024, 3)"
      ]
     },
     "execution_count": 13,
     "metadata": {},
     "output_type": "execute_result"
    }
   ],
   "source": [
    "image.shape"
   ]
  },
  {
   "cell_type": "code",
   "execution_count": 14,
   "metadata": {},
   "outputs": [],
   "source": [
    "def data_gen(df, batch_size):\n",
    "    \n",
    "    while True:\n",
    "        x_batch = np.zeros((batch_size, 1024, 1024, 3))\n",
    "        y_batch = np.zeros((batch_size, 1))\n",
    "\n",
    "\n",
    "        for chunk_index in range(len(df)//batch_size):\n",
    "            start_chunk_index = chunk_index*batch_size\n",
    "            end_chunk_index = (chunk_index+1)*batch_size\n",
    "\n",
    "\n",
    "            i = 0\n",
    "            for folder, filename, label in zip(df['Folder'].values[start_chunk_index:end_chunk_index], df['filename'].values[start_chunk_index:end_chunk_index], df['label'].values[start_chunk_index:end_chunk_index]):\n",
    "                img = Image.open(os.path.join(folder, filename))\n",
    "                image_red = img.resize((1024, 1024))\n",
    "                try:\n",
    "                    x_batch[i] = img_to_array(image_red)\n",
    "                except:\n",
    "                    print(f'this file is currupted: {os.path.join(folder, filename)}')\n",
    "                    os.remove(os.path.join(folder, filename))\n",
    "\n",
    "                y_batch[i] = label\n",
    "                i += 1\n",
    "\n",
    "\n",
    "            yield x_batch, np_utils.to_categorical(y_batch, 2)     "
   ]
  },
  {
   "cell_type": "code",
   "execution_count": 15,
   "metadata": {},
   "outputs": [
    {
     "data": {
      "text/plain": [
       "0                                          dsc_01001.jpg\n",
       "1                        burning-charcoal-briquettes.jpg\n",
       "2                                      Chimney-Fire3.jpg\n",
       "3                                    canada-wildfire.jpg\n",
       "4                              Living_Room_Camp_Fire.jpg\n",
       "                             ...                        \n",
       "258    amazing-modern-living-room-design-with-white-b...\n",
       "259        813e6b10-848b-478e-a471-480f14eeb271.1.10.jpg\n",
       "260              201504-connect-norway-horizontal-1b.jpg\n",
       "261            690x380-Lake-Tahoe-Summer-Emerald-Bay.jpg\n",
       "262    AAEAAQAAAAAAAAJqAAAAJDAwNDUwNDAwLWUwYTAtNDlmNy...\n",
       "Name: filename, Length: 263, dtype: object"
      ]
     },
     "execution_count": 15,
     "metadata": {},
     "output_type": "execute_result"
    }
   ],
   "source": [
    "df['filename']\n"
   ]
  },
  {
   "cell_type": "code",
   "execution_count": 16,
   "metadata": {},
   "outputs": [],
   "source": [
    "model = tf.keras.Sequential()\n",
    "model.add(layers.Conv2D(32, kernel_size=(3, 3), activation='relu', input_shape=(1024, 1024, 3)))\n",
    "model.add(layers.Conv2D(32, kernel_size=(3,3), activation='relu'))  \n",
    "model.add(layers.MaxPooling2D(pool_size=(2, 2)))\n",
    "model.add(layers.Dropout(0.5))\n",
    "model.add(layers.Flatten())\n",
    "model.add(layers.Dense(64, activation='relu'))\n",
    "model.add(layers.Dropout(0.5))\n",
    "model.add(layers.Dense(2, activation='sigmoid'))\n",
    "\n",
    "model.compile(loss='binary_crossentropy',\n",
    "             optimizer=tf.keras.optimizers.Adam(0.01),\n",
    "             metrics = ['accuracy'])"
   ]
  },
  {
   "cell_type": "code",
   "execution_count": 18,
   "metadata": {},
   "outputs": [
    {
     "name": "stdout",
     "output_type": "stream",
     "text": [
      "Epoch 1/2\n",
      "4/4 [==============================] - 502s 125s/step - loss: 53513.2383 - accuracy: 0.5650\n",
      "Epoch 2/2\n",
      "4/4 [==============================] - 421s 105s/step - loss: 7649.0508 - accuracy: 0.5400\n"
     ]
    },
    {
     "data": {
      "text/plain": [
       "<tensorflow.python.keras.callbacks.History at 0x7fd0b7b1bc90>"
      ]
     },
     "execution_count": 18,
     "metadata": {},
     "output_type": "execute_result"
    }
   ],
   "source": [
    "# PATH = '/content/gdrive/MyDrive/DS2.2/Final_Project/images'\n",
    "# batch_size = 50 #batch size = 8*x  [50 is a good start]\n",
    "# epochs = 2\n",
    "\n",
    "# def data_gen(df, batch_size):\n",
    "#     while True:\n",
    "#         x_batch = np.zeros((batch_size, 1024, 1024, 3))\n",
    "#         y_batch = np.zeros((batch_size, 1))\n",
    "#         for j in range(int(len(df)/batch_size)):\n",
    "#             for m, k in zip(df['filename'].values[j*batch_size:(j+1)*batch_size], df['label'].values[j*batch_size:(j+1)*batch_size]):\n",
    "#                 b = 0\n",
    "#                 img = Image.open(f'{df[\"Folder\"][b]}/{df[\"filename\"][b]}')\n",
    "#                 image_red = img.resize((1024, 1024))\n",
    "#                 x_batch[b] = img_to_array(image_red)\n",
    "#                 y_batch[b] = df['label'][b]\n",
    "#                 b += 1\n",
    "#             yield (x_batch, y_batch)\n",
    "\n",
    "# #model.fit_generator is depricated, updated\n",
    "# model.fit(data_gen(df_train, batch_size=batch_size), steps_per_epoch=len(df_train) // batch_size, epochs=epochs)\n",
    "\n",
    "batch_size = 50\n",
    "model.fit(data_gen(df_train, batch_size=batch_size), steps_per_epoch=len(df_train) // batch_size, epochs=2, verbose=1)"
   ]
  },
  {
   "cell_type": "code",
   "execution_count": 19,
   "metadata": {},
   "outputs": [
    {
     "name": "stdout",
     "output_type": "stream",
     "text": [
      "Model: \"sequential\"\n",
      "_________________________________________________________________\n",
      "Layer (type)                 Output Shape              Param #   \n",
      "=================================================================\n",
      "conv2d (Conv2D)              (None, 1022, 1022, 32)    896       \n",
      "_________________________________________________________________\n",
      "conv2d_1 (Conv2D)            (None, 1020, 1020, 32)    9248      \n",
      "_________________________________________________________________\n",
      "max_pooling2d (MaxPooling2D) (None, 510, 510, 32)      0         \n",
      "_________________________________________________________________\n",
      "dropout (Dropout)            (None, 510, 510, 32)      0         \n",
      "_________________________________________________________________\n",
      "flatten (Flatten)            (None, 8323200)           0         \n",
      "_________________________________________________________________\n",
      "dense (Dense)                (None, 64)                532684864 \n",
      "_________________________________________________________________\n",
      "dropout_1 (Dropout)          (None, 64)                0         \n",
      "_________________________________________________________________\n",
      "dense_1 (Dense)              (None, 2)                 130       \n",
      "=================================================================\n",
      "Total params: 532,695,138\n",
      "Trainable params: 532,695,138\n",
      "Non-trainable params: 0\n",
      "_________________________________________________________________\n"
     ]
    }
   ],
   "source": [
    "model.summary()"
   ]
  },
  {
   "cell_type": "code",
   "execution_count": 21,
   "metadata": {},
   "outputs": [],
   "source": [
    "model_2 = tf.keras.Sequential()\n",
    "model_2.add(layers.Conv2D(16, kernel_size=(3, 3), activation='relu', input_shape=(1024, 1024, 3)))\n",
    "model_2.add(layers.MaxPooling2D(pool_size=(2, 2)))\n",
    "model_2.add(layers.Dropout(0.5))\n",
    "model_2.add(layers.Flatten())\n",
    "model_2.add(layers.Dense(4, activation='relu'))\n",
    "model_2.add(layers.Dropout(0.5))\n",
    "model_2.add(layers.Dense(2, activation='sigmoid'))\n",
    "\n",
    "model_2.compile(loss='binary_crossentropy',\n",
    "             optimizer=tf.keras.optimizers.Adam(0.01),\n",
    "             metrics = ['accuracy'])"
   ]
  },
  {
   "cell_type": "code",
   "execution_count": 22,
   "metadata": {},
   "outputs": [
    {
     "name": "stdout",
     "output_type": "stream",
     "text": [
      "Model: \"sequential_1\"\n",
      "_________________________________________________________________\n",
      "Layer (type)                 Output Shape              Param #   \n",
      "=================================================================\n",
      "conv2d_2 (Conv2D)            (None, 1022, 1022, 16)    448       \n",
      "_________________________________________________________________\n",
      "max_pooling2d_1 (MaxPooling2 (None, 511, 511, 16)      0         \n",
      "_________________________________________________________________\n",
      "dropout_2 (Dropout)          (None, 511, 511, 16)      0         \n",
      "_________________________________________________________________\n",
      "flatten_1 (Flatten)          (None, 4177936)           0         \n",
      "_________________________________________________________________\n",
      "dense_2 (Dense)              (None, 4)                 16711748  \n",
      "_________________________________________________________________\n",
      "dropout_3 (Dropout)          (None, 4)                 0         \n",
      "_________________________________________________________________\n",
      "dense_3 (Dense)              (None, 2)                 10        \n",
      "=================================================================\n",
      "Total params: 16,712,206\n",
      "Trainable params: 16,712,206\n",
      "Non-trainable params: 0\n",
      "_________________________________________________________________\n"
     ]
    }
   ],
   "source": [
    "model_2.summary()"
   ]
  },
  {
   "cell_type": "code",
   "execution_count": 23,
   "metadata": {},
   "outputs": [
    {
     "name": "stdout",
     "output_type": "stream",
     "text": [
      "Epoch 1/2\n",
      "6/6 [==============================] - 27s 5s/step - loss: 4.5007 - accuracy: 0.5677\n",
      "Epoch 2/2\n",
      "6/6 [==============================] - 28s 5s/step - loss: 0.6893 - accuracy: 0.5781\n"
     ]
    },
    {
     "data": {
      "text/plain": [
       "<tensorflow.python.keras.callbacks.History at 0x7fae96d4db90>"
      ]
     },
     "execution_count": 23,
     "metadata": {},
     "output_type": "execute_result"
    }
   ],
   "source": [
    "batch_size = 32\n",
    "model_2.fit(data_gen(df_train, batch_size=batch_size), steps_per_epoch=len(df_train) // batch_size, epochs=2, verbose=1)"
   ]
  },
  {
   "cell_type": "code",
   "execution_count": null,
   "metadata": {},
   "outputs": [],
   "source": [
    "#I tried my best, minimized loss, but can't figure out accuracy"
   ]
  }
 ],
 "metadata": {
  "kernelspec": {
   "display_name": "Python 3",
   "language": "python",
   "name": "python3"
  },
  "language_info": {
   "codemirror_mode": {
    "name": "ipython",
    "version": 3
   },
   "file_extension": ".py",
   "mimetype": "text/x-python",
   "name": "python",
   "nbconvert_exporter": "python",
   "pygments_lexer": "ipython3",
   "version": "3.7.6"
  }
 },
 "nbformat": 4,
 "nbformat_minor": 4
}
